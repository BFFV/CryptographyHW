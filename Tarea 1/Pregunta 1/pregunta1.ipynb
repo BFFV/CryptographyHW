{
 "cells": [
  {
   "cell_type": "markdown",
   "metadata": {},
   "source": [
    "# Pregunta 1"
   ]
  },
  {
   "cell_type": "code",
   "execution_count": 107,
   "metadata": {},
   "outputs": [],
   "source": [
    "# Standard library\n",
    "from math import ceil\n",
    "\n",
    "# Auxiliary functions\n",
    "\n",
    "# Convert from plain text to corresponding positions in the alphabet\n",
    "def text_to_numbers(text, characters):\n",
    "    return [characters.index(c) for c in text]\n",
    "\n",
    "# Convert from alphabet positions to the corresponding plain text\n",
    "def numbers_to_text(numbers, characters):\n",
    "    return ''.join([characters[n] for n in numbers])\n",
    "\n",
    "# Encrypt plain text using RP\n",
    "def encrypt(text, key, alphabet):\n",
    "    numbered_text = text_to_numbers(text, alphabet)\n",
    "    numbered_key = text_to_numbers(key, alphabet)\n",
    "    encrypted = []\n",
    "    for idx, n in enumerate(numbered_text):\n",
    "        encrypted.append((n + numbered_key[idx % len(key)]) % len(alphabet))\n",
    "    return numbers_to_text(encrypted, alphabet)\n",
    "\n",
    "# Decrypt cipher text using RP\n",
    "def decrypt(cipher, key, alphabet):\n",
    "    numbered_text = text_to_numbers(cipher, alphabet)\n",
    "    numbered_key = text_to_numbers(key, alphabet)\n",
    "    decrypted = []\n",
    "    for idx, n in enumerate(numbered_text):\n",
    "        decrypted.append((n - numbered_key[idx % len(key)]) % len(alphabet))\n",
    "    return numbers_to_text(decrypted, alphabet)\n",
    "\n",
    "# Calculate absolute distance between a string and the distribution of letters over an alphabet\n",
    "def abs_distance(string, frequencies):\n",
    "    return sum([abs(frequencies[c] - string.count(c) / len(string)) for c in frequencies])"
   ]
  },
  {
   "cell_type": "code",
   "execution_count": 120,
   "metadata": {},
   "outputs": [],
   "source": [
    "# TODO: use if needed for maximum or minimum search\n",
    "\"\"\"\n",
    "best_text = ''\n",
    "smallest_distance = float('inf')\n",
    "for i in range(n_pads):\n",
    "    current_text = ciphertext[key_size * i: min(key_size * (i + 1), len(ciphertext))]\n",
    "    current_distance = distance(current_text, frequencies)\n",
    "    if current_distance < smallest_distance:\n",
    "        smallest_distance = current_distance\n",
    "        best_text = current_text\n",
    "print(best_text, smallest_distance)\n",
    "\"\"\"\n",
    "\n",
    "# Break Repeated Pad using frequency analysis\n",
    "def break_rp(ciphertext, frequencies, distance):\n",
    "    \"\"\"\n",
    "    Arguments:\n",
    "        ciphertext: An arbitrary string representing the encrypted version of a plaintext.\n",
    "        frequencies: A dictionary representing a character frequency over the alphabet.\n",
    "        distance: A function indicating how distant is a string from following a character frequency.\n",
    "    Returns:\n",
    "        key: A guess of the key used to encrypt the ciphertext, assuming that the plaintext message was written in a language in which\n",
    "        letters distribute according to frequencies.\n",
    "    \"\"\"\n",
    "    # TODO: make this key size arbitrary\n",
    "    key_size = 27\n",
    "\n",
    "    n_pads = ceil(len(ciphertext) / key_size)\n",
    "    lists = []\n",
    "    for i in range(n_pads):\n",
    "        current_text = ciphertext[key_size * i: min(key_size * (i + 1), len(ciphertext))]\n",
    "        c_list = [current_text.count(x) / len(current_text) for x in current_text]\n",
    "        lists.append(c_list)\n",
    "    print(sum([x[5] for x in lists]) / len(lists))\n",
    "    # TODO: come up with some strategy with the freqs and distance\n",
    "    return 'aworiaqalidhgsgpmlokpfhotbn'"
   ]
  },
  {
   "cell_type": "code",
   "execution_count": 119,
   "metadata": {},
   "outputs": [
    {
     "name": "stdout",
     "output_type": "stream",
     "text": [
      "0.07278669043374926\n",
      "fifteenhoursintoeldenringidefeatedgodrickthefirstoffiveeldenlordsinthetimebetweenemergingintothelandsbetweenandstrikinghimdownihaddiscovereddecrepitruinsventuredintotwistingcavesstumbleduponenemyencampmentsandbattledtoothandnailagainstchallengingbossesfromsoftwaresgameshavealwaysmadeyoufeelsmallinmanywaystheytellyouthatyouareworthlessaplagueriddenratoraccursedundeadunfiteventobecinderstheyaskyoutonavigateunflinchingbrutalworldsandpityouagainstenemiesthatsystematicallydismantleyouregoeldenringmaintainsthenailbitingcombatandairofmysterythathasdistinguishedfromsoftwaressoulsbornegamesbutitiselevatedtonewheightsbythestudiosinterpretationofwhatanopenworldgamecanbehavingbroughtdowngodrickthebreadthoftheworldandthewayinwhichfromsoftwarehasapplieditssignaturestyletoanopenworldwasonfulldisplayreinforcinghowinsignificantireallywasanddrivinghomethemagnitudeofthetaskthatstillawaitedmeinagenrethathasbecomewroughtwithbloatedandoverdesignedgameseldenringisdefiantlycontrarianinalmosteverywayitscommitmenttodesignbysubtractionandtoplacingtheresponsibilityofchartingapaththroughitsworldentirelyontheplayermakesitstandheadandshouldersaboveotheropenworldtitleseldenringtakestheshardsofwhatcamebeforeandforgesthemintosomethingthatwillgodowninhistoryasoneofthealltimegreatsatriumphindesignandcreativityandanopenworldgamethatdistinguishesitselfforwhatitdoesnotdoasmuchaswhatitdoes\n"
     ]
    }
   ],
   "source": [
    "# TODO: more examples and better testing with files\n",
    "# Test Repeated Pad breaking\n",
    "if __name__ == '__main__':\n",
    "    # Letter frequency for the english alphabet\n",
    "    english_freq = {'a': 0.0817,\n",
    "                    'b': 0.0129,\n",
    "                    'c': 0.0276,\n",
    "                    'd': 0.0425,\n",
    "                    'e': 0.1288,\n",
    "                    'f': 0.0223,\n",
    "                    'g': 0.0202,\n",
    "                    'h': 0.0609,\n",
    "                    'i': 0.0697,\n",
    "                    'j': 0.0015,\n",
    "                    'k': 0.0077,\n",
    "                    'l': 0.0403,\n",
    "                    'm': 0.0241,\n",
    "                    'n': 0.0675,\n",
    "                    'o': 0.0751,\n",
    "                    'p': 0.0193,\n",
    "                    'q': 0.001,\n",
    "                    'r': 0.0599,\n",
    "                    's': 0.0633,\n",
    "                    't': 0.0906,\n",
    "                    'u': 0.0278,\n",
    "                    'v': 0.0098,\n",
    "                    'w': 0.0236,\n",
    "                    'x': 0.0015,\n",
    "                    'y': 0.0197,\n",
    "                    'z': 0.0007}\n",
    "\n",
    "    # Plain text of 1372 characters\n",
    "    plain_text = 'fifteenhoursintoeldenringidefeatedgodrickthefirstoffiveeldenlordsinthetimebetweenemergingintothelandsbetweenandstrikinghimdownihaddiscovereddecrepitruinsventuredintotwistingcavesstumbleduponenemyencampmentsandbattledtoothandnailagainstchallengingbossesfromsoftwaresgameshavealwaysmadeyoufeelsmallinmanywaystheytellyouthatyouareworthlessaplagueriddenratoraccursedundeadunfiteventobecinderstheyaskyoutonavigateunflinchingbrutalworldsandpityouagainstenemiesthatsystematicallydismantleyouregoeldenringmaintainsthenailbitingcombatandairofmysterythathasdistinguishedfromsoftwaressoulsbornegamesbutitiselevatedtonewheightsbythestudiosinterpretationofwhatanopenworldgamecanbehavingbroughtdowngodrickthebreadthoftheworldandthewayinwhichfromsoftwarehasapplieditssignaturestyletoanopenworldwasonfulldisplayreinforcinghowinsignificantireallywasanddrivinghomethemagnitudeofthetaskthatstillawaitedmeinagenrethathasbecomewroughtwithbloatedandoverdesignedgameseldenringisdefiantlycontrarianinalmosteverywayitscommitmenttodesignbysubtractionandtoplacingtheresponsibilityofchartingapaththroughitsworldentirelyontheplayermakesitstandheadandshouldersaboveotheropenworldtitleseldenringtakestheshardsofwhatcamebeforeandforgesthemintosomethingthatwillgodowninhistoryasoneofthealltimegreatsatriumphindesignandcreativityandanopenworldgamethatdistinguishesitselfforwhatitdoesnotdoasmuchaswhatitdoes'\n",
    "\n",
    "    # Random key of 27 characters\n",
    "    rp_key = 'aworiaqalidhgsgpmlokpfhotbn'\n",
    "\n",
    "    # Encrypted text\n",
    "    cipher_text = encrypt(plain_text, rp_key, list(english_freq))\n",
    "\n",
    "    # Break RP test\n",
    "    possible_key = break_rp(cipher_text, english_freq, abs_distance)\n",
    "\n",
    "    # Compare the resulting text with the original\n",
    "    print(decrypt(cipher_text, possible_key, list(english_freq)))"
   ]
  },
  {
   "cell_type": "code",
   "execution_count": null,
   "metadata": {},
   "outputs": [],
   "source": []
  }
 ],
 "metadata": {
  "interpreter": {
   "hash": "5907706a5bede338fae04c755e1704edb7b4d80e565bb2f27c59e7a4f9d43a3f"
  },
  "kernelspec": {
   "display_name": "Python 3.8.1 ('venv': venv)",
   "language": "python",
   "name": "python3"
  },
  "language_info": {
   "codemirror_mode": {
    "name": "ipython",
    "version": 3
   },
   "file_extension": ".py",
   "mimetype": "text/x-python",
   "name": "python",
   "nbconvert_exporter": "python",
   "pygments_lexer": "ipython3",
   "version": "3.8.1"
  },
  "orig_nbformat": 4
 },
 "nbformat": 4,
 "nbformat_minor": 2
}
