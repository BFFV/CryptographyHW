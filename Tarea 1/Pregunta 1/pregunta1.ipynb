{
 "cells": [
  {
   "cell_type": "markdown",
   "metadata": {},
   "source": [
    "# Pregunta 1"
   ]
  },
  {
   "cell_type": "code",
   "execution_count": 42,
   "metadata": {},
   "outputs": [],
   "source": [
    "# Auxiliary functions\n",
    "\n",
    "# Convert from plain text to corresponding positions in the alphabet\n",
    "def text_to_numbers(text, characters):\n",
    "    return [characters.index(c) for c in text]\n",
    "\n",
    "# Convert from alphabet positions to the corresponding plain text\n",
    "def numbers_to_text(numbers, characters):\n",
    "    return ''.join([characters[n] for n in numbers])\n",
    "\n",
    "# Encrypt plain text using RP\n",
    "def encrypt(text, key, alphabet):\n",
    "    numbered_text = text_to_numbers(text, alphabet)\n",
    "    numbered_key = text_to_numbers(key, alphabet)\n",
    "    encrypted = []\n",
    "    for idx, n in enumerate(numbered_text):\n",
    "        encrypted.append((n + numbered_key[idx % len(key)]) % len(alphabet))\n",
    "    return numbers_to_text(encrypted, alphabet)\n",
    "\n",
    "# Calculate absolute distance between a string and the distribution of letters over an alphabet\n",
    "def abs_distance(string, frequencies):\n",
    "    return sum([abs(frequencies[c] - string.count(c) / len(string)) for c in frequencies])"
   ]
  },
  {
   "cell_type": "code",
   "execution_count": 48,
   "metadata": {},
   "outputs": [],
   "source": [
    "# Break Repeated Pad using frequency analysis\n",
    "def break_rp(ciphertext, frequencies, distance):\n",
    "    \"\"\"\n",
    "    Arguments:\n",
    "        ciphertext: An arbitrary string representing the encrypted version of a plaintext.\n",
    "        frequencies: A dictionary representing a character frequency over the alphabet.\n",
    "        distance: A function indicating how distant is a string from following a character frequency.\n",
    "    Returns:\n",
    "        key: A guess of the key used to encrypt the ciphertext, assuming that the plaintext message was written in a language in which\n",
    "        letters distribute according to frequencies.\n",
    "    \"\"\"\n",
    "    print(ciphertext)\n",
    "    return 'hola1234'"
   ]
  },
  {
   "cell_type": "code",
   "execution_count": 49,
   "metadata": {},
   "outputs": [
    {
     "name": "stdout",
     "output_type": "stream",
     "text": [
      "krxggmgukcfxsfhhodjjowrftklxsaihjnycwbaipumnxvtambbnwaowzwofrtsibaavpxgeusgolkxofkrfwpaaiqggkbvjvsbwctkyxjnfnpllgnqynxyvbwvubonqsqfqlpkdswovrxmjkujyamvpaorjbiwovwgdgzbjxcaaiktiaagyeepeovaupsnfrogxayiauwwbmcsticfclyglmbkbvfxvbtsdglbnwkgeptyhmblsfuuykyjtkagzuwygsifjcyofoknfwjjdjcglzwlsdymtxodyrbquaaoiglsimxdzsrdwrqztdlucbrbqifjggfmrdkxtfydnicxeelrjxjomyjghdzakrfcgqairzxxwmonksutkwpkvwrnahmoqoluquzutwsikotgacbkvabvratlcwdlnnehehlgfxvdbdquzbljaaubxaauwjclvtdkexujvsgkktyhgrnceogddkdpzawtqmeqavfnxyatsfzfjsblugvtvhjwysfuvyehfufwvnkzhsiggyojmmrszmbxmafvqgtqqgmovtkyeytgyfsegalbqtggyjbxqssjtgdlvvqlrhmjfdwrmyfkbijryuvaulppsxdmrbykosujahegbtgewbtpovtdsttqjwobttwtwushkfpxrsbnolkjbwoagzwksqgrksuqyijkjrclmuknhmoockvvgseyqwjcgbaspwhrxfhwkukubjjrjilnlxznovwmckolofcmegamlhmhtkfciofctsqmonuwgsqtziskdekqxjjsogeeqgtdwknxkwzxalndfwlvtmtyhgkfcsbwnjoajspzbommuauolxahnnwukumnlnusmuwbgysdztgsoyfivw\n"
     ]
    }
   ],
   "source": [
    "# TODO: more examples and better testing with files\n",
    "# Test Repeated Pad breaking\n",
    "if __name__ == '__main__':\n",
    "    # Letter frequency for the english alphabet\n",
    "    english_freq = {'a': 8.17,\n",
    "                    'b': 1.29,\n",
    "                    'c': 2.76,\n",
    "                    'd': 4.25,\n",
    "                    'e': 12.88,\n",
    "                    'f': 2.23,\n",
    "                    'g': 2.02,\n",
    "                    'h': 6.09,\n",
    "                    'i': 6.97,\n",
    "                    'j': 0.15,\n",
    "                    'k': 0.77,\n",
    "                    'l': 4.03,\n",
    "                    'm': 2.41,\n",
    "                    'n': 6.75,\n",
    "                    'o': 7.51,\n",
    "                    'p': 1.93,\n",
    "                    'q': 0.1,\n",
    "                    'r': 5.99,\n",
    "                    's': 6.33,\n",
    "                    't': 9.06,\n",
    "                    'u': 2.78,\n",
    "                    'v': 0.98,\n",
    "                    'w': 2.36,\n",
    "                    'x': 0.15,\n",
    "                    'y': 1.97,\n",
    "                    'z': 0.07}\n",
    "\n",
    "    # Plain text of 1065 characters\n",
    "    plain_text = 'fifteenhoursintoeldenringidefeatedgodrickthefirstoffiveeldenlordsinthetimebetweenemergingintothelandsbetweenandstrikinghimdownihaddiscovereddecrepitruinsventuredintotwistingcavesstumbleduponenemyencampmentsandbattledtoothandnailagainstchallengingbossesfromsoftwaresgameshavealwaysmadeyoufeelsmallinmanywaystheytellyouthatyouareworthlessaplagueriddenratoraccursedundeadunfiteventobecinderstheyaskyoutonavigateunflinchingbrutalworldsandpityouagainstenemiesthatsystematicallydismantleyouregoeldenringmaintainsthenailbitingcombatandairofmysterythathasdistinguishedfromsoftwaressoulsbornegamesbutitiselevatedtonewheightsbythestudiosinterpretationofwhatanopenworldgamecanbehavingbroughtdowngodrickthebreadthoftheworldandthewayinwhichfromsoftwarehasapplieditssignaturestyletoanopenworldwasonfulldisplayreinforcinghowinsignificantireallywasanddrivinghomethemagnitudeofthetaskthatstillawaitedme'\n",
    "\n",
    "    # Random key of 21 characters\n",
    "    rp_key = 'fjsncitnwiofksotksgfb'\n",
    "\n",
    "    # Encrypted text\n",
    "    cipher_text = encrypt(plain_text, rp_key, list(english_freq))\n",
    "\n",
    "    # Break RP test\n",
    "    break_rp(cipher_text, english_freq, abs_distance)"
   ]
  },
  {
   "cell_type": "code",
   "execution_count": null,
   "metadata": {},
   "outputs": [],
   "source": []
  }
 ],
 "metadata": {
  "interpreter": {
   "hash": "5907706a5bede338fae04c755e1704edb7b4d80e565bb2f27c59e7a4f9d43a3f"
  },
  "kernelspec": {
   "display_name": "Python 3.8.1 ('venv': venv)",
   "language": "python",
   "name": "python3"
  },
  "language_info": {
   "codemirror_mode": {
    "name": "ipython",
    "version": 3
   },
   "file_extension": ".py",
   "mimetype": "text/x-python",
   "name": "python",
   "nbconvert_exporter": "python",
   "pygments_lexer": "ipython3",
   "version": "3.8.1"
  },
  "orig_nbformat": 4
 },
 "nbformat": 4,
 "nbformat_minor": 2
}
