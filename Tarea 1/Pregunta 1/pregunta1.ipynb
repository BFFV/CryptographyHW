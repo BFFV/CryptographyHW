{
 "cells": [
  {
   "cell_type": "markdown",
   "metadata": {},
   "source": [
    "# Pregunta 1"
   ]
  },
  {
   "cell_type": "code",
   "execution_count": null,
   "metadata": {},
   "outputs": [],
   "source": [
    "# Get absolute distance between letters on a string and an alphabet\n",
    "def abs_distance(string, frequencies):\n",
    "    return sum([abs(frequencies[c] - string.count(c) / len(string)) for c in frequencies])"
   ]
  },
  {
   "cell_type": "code",
   "execution_count": null,
   "metadata": {},
   "outputs": [],
   "source": [
    "def break_rp(ciphertext, frequencies, distance):\n",
    "    \"\"\"\n",
    "    Arguments:\n",
    "        ciphertext: An arbitrary string representing the encrypted version of a plaintext.\n",
    "        frequencies: A dictionary representing a character frequency over the alphabet.\n",
    "        distance: A function indicating how distant is a string from following a character frequency.\n",
    "    Returns:\n",
    "        key: A guess of the key used to encrypt the ciphertext, assuming that the plaintext message was written in a language in which\n",
    "        letters distribute according to frequencies.\n",
    "    \"\"\"\n",
    "    return 'hola1234'"
   ]
  }
 ],
 "metadata": {
  "language_info": {
   "name": "python"
  },
  "orig_nbformat": 4
 },
 "nbformat": 4,
 "nbformat_minor": 2
}
