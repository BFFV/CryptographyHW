{
 "cells": [
  {
   "cell_type": "markdown",
   "metadata": {},
   "source": [
    "# Pregunta 3"
   ]
  },
  {
   "cell_type": "markdown",
   "metadata": {},
   "source": [
    "A continuación se importan algunas librerías estándar de ``python`` que serán de utilidad. Luego se definen funciones auxiliares que serán usadas para manipular los textos planos y encriptados, así como la noción de distancia absoluta vista en clases (entre un string y la distribución de frecuencias de su alfabeto asociado):"
   ]
  },
  {
   "cell_type": "code",
   "execution_count": 91,
   "metadata": {},
   "outputs": [],
   "source": [
    "# Standard library\n",
    "from hashlib import md5, sha256\n",
    "\n",
    "# Auxiliary functions\n",
    "\n",
    "# Wrapper for MD5 hash function\n",
    "def hash_md5(string):\n",
    "    return md5(string.encode()).hexdigest()\n",
    "\n",
    "# Wrapper for SHA-256 hash function\n",
    "def hash_sha256(string):\n",
    "    return sha256(string.encode()).hexdigest()\n",
    "\n",
    "# Fake hash function that returns the same string (for testing)\n",
    "def hash_fake(string):\n",
    "    return string"
   ]
  },
  {
   "cell_type": "markdown",
   "metadata": {},
   "source": [
    "A"
   ]
  },
  {
   "cell_type": "code",
   "execution_count": 92,
   "metadata": {},
   "outputs": [],
   "source": [
    "# Merkle Tree representation\n",
    "class MerkleTree:\n",
    "    # Object representation for each node\n",
    "    class Node:\n",
    "        def __init__(self, value, level=0):\n",
    "            self.value = value\n",
    "            self.level = level\n",
    "            self.parent = None\n",
    "            self.sibling = None\n",
    "            self.side = ''\n",
    "\n",
    "    # Construct tree\n",
    "    def __init__(self, strings, hash_func):\n",
    "        \"\"\"\n",
    "        Arguments:\n",
    "            strings: The set of strings S to be represented by the tree.\n",
    "            hash_func: An arbitrary cryptographic hash function.\n",
    "        \"\"\"\n",
    "        self.hash = hash_func\n",
    "        self.leaves = [self.Node(self.hash(s)) for s in strings]\n",
    "\n",
    "        # Bottom-Up tree generation using BFS\n",
    "        nodes = [node for node in self.leaves]\n",
    "        previous = None\n",
    "        current = None\n",
    "        level = 0\n",
    "        while nodes:\n",
    "            current = nodes.pop(0)\n",
    "            if previous and current.level > level:  # Lonely node, self duplicate and create parent\n",
    "                duplicated = MerkleTree.Node(previous.value, level=previous.level)\n",
    "                parent = MerkleTree.Node(self.hash(previous.value + duplicated.value), level=previous.level + 1)\n",
    "                previous.parent = parent\n",
    "                previous.sibling = duplicated\n",
    "                previous.side = 'i'\n",
    "                duplicated.parent = parent\n",
    "                duplicated.sibling = previous\n",
    "                duplicated.side = 'd'\n",
    "                nodes.append(parent)\n",
    "                previous = current\n",
    "            elif previous:  # Create parent of previous and current\n",
    "                parent = MerkleTree.Node(self.hash(previous.value + current.value), level=current.level + 1)\n",
    "                previous.parent = parent\n",
    "                previous.sibling = current\n",
    "                previous.side = 'i'\n",
    "                current.parent = parent\n",
    "                current.sibling = previous\n",
    "                current.side = 'd'\n",
    "                nodes.append(parent)\n",
    "                previous = None\n",
    "            else:  # Wait for next node to create a parent\n",
    "                previous = current\n",
    "            level = current.level  # Update current tree level\n",
    "\n",
    "        # Special Case: The tree only represents one string\n",
    "        if not level:\n",
    "            duplicated = MerkleTree.Node(previous.value, level=previous.level)\n",
    "            parent = MerkleTree.Node(self.hash(previous.value + duplicated.value), level=previous.level + 1)\n",
    "            previous.parent = parent\n",
    "            previous.sibling = duplicated\n",
    "            previous.side = 'i'\n",
    "            duplicated.parent = parent\n",
    "            duplicated.sibling = previous\n",
    "            duplicated.side = 'd'\n",
    "\n",
    "    # TODO: Get root of the tree\n",
    "    def get_root(self):\n",
    "        # go to parent until there is no parent\n",
    "        pass\n",
    "\n",
    "    # TODO: Obtain necessary values to verify an item of the tree\n",
    "    def get_proof_for(self, item):\n",
    "        # get leaf, get sibling, go to parent, get sibling, go to parent, get sibling...repeat until root\n",
    "        pass\n",
    "\n",
    "    # Visual representation of the tree\n",
    "    def __str__(self):\n",
    "        repr_str = 'L0: '\n",
    "        nodes = [node for node in self.leaves]\n",
    "        previous = None\n",
    "        current = None\n",
    "        level = 0\n",
    "        while nodes:\n",
    "            current = nodes.pop(0)\n",
    "            if current.level > level:\n",
    "                level += 1\n",
    "                repr_str += f'\\nL{level}: '\n",
    "                previous = None\n",
    "            if previous:\n",
    "                previous = None\n",
    "            else:\n",
    "                if current.parent:\n",
    "                    repr_str += f'L({current.value}) R({current.sibling.value}) '\n",
    "                    nodes.append(current.parent)\n",
    "                else:\n",
    "                    repr_str += f'ROOT({current.value})'\n",
    "                previous = current\n",
    "        return repr_str"
   ]
  },
  {
   "cell_type": "code",
   "execution_count": 93,
   "metadata": {},
   "outputs": [],
   "source": [
    "# TODO: Verify proof for a given item and tree\n",
    "def verify(root, item, proof, hash_func):\n",
    "    \"\"\"\n",
    "    Arguments:\n",
    "        root: The root of a Merkle Tree.\n",
    "        item: An arbitrary string.\n",
    "        proof: An alleged proof that item is part of a Merkle Tree with the previous root.\n",
    "        hash_func: An arbitrary cryptographic hash function.\n",
    "    Returns:\n",
    "        correct: Whether the proof is correct or not.\n",
    "    \"\"\"\n",
    "    # follow proof transformation of item until you get a possible root\n",
    "    # compare possible root with root, if they are equal then its correct\n",
    "    pass"
   ]
  },
  {
   "cell_type": "markdown",
   "metadata": {},
   "source": [
    "A continuación "
   ]
  },
  {
   "cell_type": "code",
   "execution_count": 94,
   "metadata": {},
   "outputs": [
    {
     "name": "stdout",
     "output_type": "stream",
     "text": [
      "L0: L(bitcoin) R(ethereum) L(tether) R(binance) L(usdc) R(usdc) \n",
      "L1: L(bitcoinethereum) R(tetherbinance) L(usdcusdc) R(usdcusdc) \n",
      "L2: L(bitcoinethereumtetherbinance) R(usdcusdcusdcusdc) \n",
      "L3: ROOT(bitcoinethereumtetherbinanceusdcusdcusdcusdc)\n"
     ]
    }
   ],
   "source": [
    "# TODO: Test Merkle Tree\n",
    "if __name__ == '__main__':\n",
    "    # Strings to represent\n",
    "    #strings = ['s1', 's2', 's3', 's4', 's5', 's6']\n",
    "    strings = ['bitcoin', 'ethereum', 'tether', 'binance', 'usdc']\n",
    "    #strings = ['']  # write a message in blocks\n",
    "\n",
    "    # Merkle Tree\n",
    "    tree = MerkleTree(strings, hash_fake)\n",
    "    print(tree)\n",
    "\n",
    "    # Verification\n",
    "    #item = ''\n",
    "    #verify(tree.get_root(), item, tree.get_proof_for(item), hash_fake)"
   ]
  },
  {
   "cell_type": "code",
   "execution_count": null,
   "metadata": {},
   "outputs": [],
   "source": []
  }
 ],
 "metadata": {
  "interpreter": {
   "hash": "5907706a5bede338fae04c755e1704edb7b4d80e565bb2f27c59e7a4f9d43a3f"
  },
  "kernelspec": {
   "display_name": "Python 3.8.1 ('venv': venv)",
   "language": "python",
   "name": "python3"
  },
  "language_info": {
   "codemirror_mode": {
    "name": "ipython",
    "version": 3
   },
   "file_extension": ".py",
   "mimetype": "text/x-python",
   "name": "python",
   "nbconvert_exporter": "python",
   "pygments_lexer": "ipython3",
   "version": "3.8.1"
  },
  "orig_nbformat": 4
 },
 "nbformat": 4,
 "nbformat_minor": 2
}
