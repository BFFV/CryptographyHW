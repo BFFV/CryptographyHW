{
 "cells": [
  {
   "cell_type": "markdown",
   "metadata": {},
   "source": [
    "# Pregunta 3"
   ]
  },
  {
   "cell_type": "markdown",
   "metadata": {},
   "source": [
    "A continuación se importan algunas librerías estándar de ``python`` que serán de utilidad. Luego se definen funciones auxiliares que serán usadas para simular funciones de hash conocidas (útiles para testing):"
   ]
  },
  {
   "cell_type": "code",
   "execution_count": 157,
   "metadata": {},
   "outputs": [],
   "source": [
    "# Standard library\n",
    "from hashlib import md5, sha256\n",
    "\n",
    "# Auxiliary functions\n",
    "\n",
    "# Wrapper for MD5 hash function\n",
    "def hash_md5(string):\n",
    "    return md5(string.encode()).hexdigest()\n",
    "\n",
    "# Wrapper for SHA-256 hash function\n",
    "def hash_sha256(string):\n",
    "    return sha256(string.encode()).hexdigest()\n",
    "\n",
    "# Fake hash function that returns the same string (for testing)\n",
    "def hash_fake(string):\n",
    "    return string"
   ]
  },
  {
   "cell_type": "markdown",
   "metadata": {},
   "source": [
    "La implementación del Merkle Tree se basa en objetos que representan a cada nodo, cada uno guardando una referencia a su hermano y padre, además del lado que le corresponde (izquierda o derecha) y su valor de hash. Esta construcción se realiza Bottom-Up (desde las hojas hasta la raíz), utilizando el algoritmo BFS y considerando los casos especiales de nodos sin hermano que deberán duplicarse. Teniendo todo esto, la obtención de la raíz y de la prueba de pertenencia son directas, simplemente se debe recorrer el árbol desde las hojas hacia arriba mientras se realizan chequeos en cada nodo. La clase se define a continuación:"
   ]
  },
  {
   "cell_type": "code",
   "execution_count": 158,
   "metadata": {},
   "outputs": [],
   "source": [
    "# Merkle Tree representation\n",
    "class MerkleTree:\n",
    "    # Object representation for each node\n",
    "    class Node:\n",
    "        def __init__(self, value, level=0):\n",
    "            self.value = value\n",
    "            self.level = level\n",
    "            self.parent = None\n",
    "            self.sibling = None\n",
    "            self.side = ''\n",
    "\n",
    "    # Construct tree\n",
    "    def __init__(self, strings, hash_func):\n",
    "        \"\"\"\n",
    "        Arguments:\n",
    "            strings: The set of strings S to be represented by the tree.\n",
    "            hash_func: An arbitrary cryptographic hash function.\n",
    "        \"\"\"\n",
    "        self.hash = hash_func\n",
    "        self.leaves = [self.Node(self.hash(s)) for s in strings]\n",
    "\n",
    "        # Bottom-Up tree generation using BFS\n",
    "        nodes = [node for node in self.leaves]\n",
    "        previous = None\n",
    "        current = None\n",
    "        level = 0\n",
    "        while nodes:\n",
    "            current = nodes.pop(0)\n",
    "            if previous and current.level > level:  # Lonely node, self duplicate and create parent\n",
    "                duplicated = MerkleTree.Node(previous.value, level=previous.level)\n",
    "                parent = MerkleTree.Node(self.hash(previous.value + duplicated.value), level=previous.level + 1)\n",
    "                previous.parent = parent\n",
    "                previous.sibling = duplicated\n",
    "                previous.side = 'i'\n",
    "                duplicated.parent = parent\n",
    "                duplicated.sibling = previous\n",
    "                duplicated.side = 'd'\n",
    "                nodes.append(parent)\n",
    "                previous = current\n",
    "            elif previous:  # Create parent of previous and current\n",
    "                parent = MerkleTree.Node(self.hash(previous.value + current.value), level=current.level + 1)\n",
    "                previous.parent = parent\n",
    "                previous.sibling = current\n",
    "                previous.side = 'i'\n",
    "                current.parent = parent\n",
    "                current.sibling = previous\n",
    "                current.side = 'd'\n",
    "                nodes.append(parent)\n",
    "                previous = None\n",
    "            else:  # Wait for next node to create a parent\n",
    "                previous = current\n",
    "            level = current.level  # Update current tree level\n",
    "\n",
    "        # Special Case: The tree only represents one string\n",
    "        if not level:\n",
    "            duplicated = MerkleTree.Node(previous.value, level=previous.level)\n",
    "            parent = MerkleTree.Node(self.hash(previous.value + duplicated.value), level=previous.level + 1)\n",
    "            previous.parent = parent\n",
    "            previous.sibling = duplicated\n",
    "            previous.side = 'i'\n",
    "            duplicated.parent = parent\n",
    "            duplicated.sibling = previous\n",
    "            duplicated.side = 'd'\n",
    "\n",
    "    # Get root of the tree\n",
    "    def get_root(self):\n",
    "        current = self.leaves[0]\n",
    "        while current.parent:\n",
    "            current = current.parent\n",
    "        return current.value\n",
    "\n",
    "    # Obtain necessary values to verify an item of the tree\n",
    "    def get_proof_for(self, item):\n",
    "        hashed_item = self.hash(item)\n",
    "        leaf_values = [l.value for l in self.leaves]\n",
    "        if hashed_item not in leaf_values:\n",
    "            return None\n",
    "        proof = []\n",
    "        current = self.leaves[leaf_values.index(hashed_item)]\n",
    "        while current.parent:\n",
    "            sibling = current.sibling\n",
    "            proof.append((sibling.value, sibling.side))\n",
    "            current = current.parent\n",
    "        return proof\n",
    "\n",
    "    # Visual representation of the tree\n",
    "    def __str__(self):\n",
    "        repr_str = 'L0: '\n",
    "        nodes = [node for node in self.leaves]\n",
    "        previous = None\n",
    "        current = None\n",
    "        level = 0\n",
    "        while nodes:\n",
    "            current = nodes.pop(0)\n",
    "            if current.level > level:\n",
    "                level += 1\n",
    "                repr_str += f'\\nL{level}: '\n",
    "                previous = None\n",
    "            if previous:\n",
    "                previous = None\n",
    "            else:\n",
    "                if current.parent:\n",
    "                    repr_str += f'L({current.value}) R({current.sibling.value}) '\n",
    "                    nodes.append(current.parent)\n",
    "                else:\n",
    "                    repr_str += f'ROOT({current.value})'\n",
    "                previous = current\n",
    "        return repr_str"
   ]
  },
  {
   "cell_type": "markdown",
   "metadata": {},
   "source": [
    "La siguiente función permite verificar si un elemento es una de las hojas de un árbol, dado que se conoce la raíz de dicho árbol y se tiene una prueba de pertenencia. La idea es reconstruir la raíz del árbol mediante la información de la prueba, y finalmente comparar la raíz obtenida con la conocida. En caso de que sean iguales, el elemento pertenece. En caso contrario, se puede concluir que el elemento fue alterado y ya no contiene información válida."
   ]
  },
  {
   "cell_type": "code",
   "execution_count": 159,
   "metadata": {},
   "outputs": [],
   "source": [
    "# Verify proof for a given item and tree root\n",
    "def verify(root, item, proof, hash_func):\n",
    "    \"\"\"\n",
    "    Arguments:\n",
    "        root: The root of a Merkle Tree.\n",
    "        item: An arbitrary string.\n",
    "        proof: An alleged proof that item is part of a Merkle Tree with the previous root.\n",
    "        hash_func: An arbitrary cryptographic hash function.\n",
    "    Returns:\n",
    "        correct: Whether the proof is correct or not.\n",
    "    \"\"\"\n",
    "    # Reconstruct root using the proof\n",
    "    hash_value = hash_func(item)\n",
    "    for step in proof:\n",
    "        sibling, side = step\n",
    "        if side == 'd':\n",
    "            hash_value = hash_func(hash_value + sibling)\n",
    "        else:\n",
    "            hash_value = hash_func(sibling + hash_value)\n",
    "\n",
    "    # Compare computed root with the real root, if they are equal then the proof was correct\n",
    "    return hash_value == root"
   ]
  },
  {
   "cell_type": "markdown",
   "metadata": {},
   "source": [
    "A modo de testing, a continuación se utiliza un Merkle Tree con hash SHA-256 para detectar las modificaciones realizadas a un mensaje:"
   ]
  },
  {
   "cell_type": "code",
   "execution_count": 160,
   "metadata": {},
   "outputs": [
    {
     "name": "stdout",
     "output_type": "stream",
     "text": [
      "REAL: This i, OBTAINED: This i, VALID: True\n",
      "REAL: s a legit m, OBTAINED: s a fake m, VALID: False\n",
      "REAL: essage that is, OBTAINED: essage that is, VALID: True\n",
      "REAL: very import, OBTAINED: not import, VALID: False\n",
      "REAL: ant, OBTAINED: ant, VALID: True\n"
     ]
    }
   ],
   "source": [
    "# Test Merkle Tree\n",
    "if __name__ == '__main__':\n",
    "    # Strings to represent\n",
    "    #strings = ['s1', 's2', 's3', 's4', 's5', 's6']\n",
    "    #strings = ['bitcoin', 'ethereum', 'tether', 'binance', 'usdc']\n",
    "    strings = ['This i', 's a legit m', 'essage that is', 'very import', 'ant']\n",
    "    corrupted_strings = ['This i', 's a fake m', 'essage that is', 'not import', 'ant']\n",
    "\n",
    "    # Merkle Tree\n",
    "    tree = MerkleTree(strings, hash_sha256)\n",
    "    #print(tree)\n",
    "\n",
    "    # Verification\n",
    "    for idx in range(len(strings)):\n",
    "        item = strings[idx]\n",
    "        corrupted_item = corrupted_strings[idx]\n",
    "        result = verify(tree.get_root(), corrupted_item, tree.get_proof_for(item), hash_sha256)\n",
    "        print(f'REAL: {item}, OBTAINED: {corrupted_item}, VALID: {result}')"
   ]
  }
 ],
 "metadata": {
  "interpreter": {
   "hash": "5907706a5bede338fae04c755e1704edb7b4d80e565bb2f27c59e7a4f9d43a3f"
  },
  "kernelspec": {
   "display_name": "Python 3.8.1 ('venv': venv)",
   "language": "python",
   "name": "python3"
  },
  "language_info": {
   "codemirror_mode": {
    "name": "ipython",
    "version": 3
   },
   "file_extension": ".py",
   "mimetype": "text/x-python",
   "name": "python",
   "nbconvert_exporter": "python",
   "pygments_lexer": "ipython3",
   "version": "3.8.1"
  },
  "orig_nbformat": 4
 },
 "nbformat": 4,
 "nbformat_minor": 2
}
