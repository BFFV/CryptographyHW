{
 "cells": [
  {
   "cell_type": "markdown",
   "metadata": {},
   "source": [
    "# Pregunta 1"
   ]
  },
  {
   "cell_type": "markdown",
   "metadata": {},
   "source": [
    "A continuación se definen las utilidades que permiten construir una función de hash:\n",
    "\n",
    "- **davies_meyer:** Se encarga de generar una función de compresión que recibe mensajes de largo ``l_key + l_message`` y entrega mensajes de largo ``l_message``.\n",
    "- **pad:** Ajusta los mensajes añadiendo la cantidad de bytes necesaria para que su largo sea múltiplo de ``l_block``. Luego añade un bloque adicional que codifica el largo del mensaje original.\n",
    "- **merkle_damgard:** Se encarga de generar una función de hash para mensajes de largo arbitrario, haciendo uso de un vector de inicialización ``IV`` y de la función de compresión obtenida anteriormente (aplicada secuencialmente sobre cada bloque del mensaje ajustado por ``pad`` y el resultado respectivo del paso anterior)."
   ]
  },
  {
   "cell_type": "code",
   "execution_count": 148,
   "metadata": {},
   "outputs": [],
   "source": [
    "# Hashing\n",
    "\n",
    "# Davies-Meyer construction\n",
    "def davies_meyer(encrypt, l_key, l_message):\n",
    "    \"\"\"\n",
    "    Arguments:\n",
    "        encrypt: An encryption function.\n",
    "        l_key: Length in bytes of the keys for encrypt.\n",
    "        l_message: Length in bytes of the messages for encrypt.\n",
    "    Returns:\n",
    "        A compression function from messages of length (l_key + l_message) to\n",
    "        messages of length (l_message), defined by using the Davies-Meyer construction.\n",
    "    \"\"\"\n",
    "    # Compression function\n",
    "    def compress(message):\n",
    "        enc = encrypt(message[:l_key], message[l_key:])\n",
    "        return bytearray(enc[i] ^ message[l_key:][i] for i in range(l_message))\n",
    "    return compress\n",
    "\n",
    "# Padding\n",
    "def pad(message, l_block):\n",
    "    \"\"\"\n",
    "    Arguments:\n",
    "        message: Message to be padded.\n",
    "        l_block: Length in bytes of the block.\n",
    "    Returns:\n",
    "        Extension of message that includes the length of the message\n",
    "        (in bytes) in its last block.\n",
    "    \"\"\"\n",
    "    padded_message = bytearray(message)\n",
    "    offset = len(message) % l_block\n",
    "\n",
    "    # Message needs to be extended\n",
    "    if offset:\n",
    "        new_bytes = bytearray.fromhex('01' + (l_block - offset - 1) * '00')\n",
    "        padded_message += new_bytes\n",
    "\n",
    "    # Add length block\n",
    "    padded_message += (len(message) % (2 ** l_block)).to_bytes(l_block, 'big')\n",
    "    return padded_message\n",
    "\n",
    "# Merkle-Damgard construction\n",
    "def merkle_damgard(IV, comp, l_block):\n",
    "    \"\"\"\n",
    "    Arguments:\n",
    "        IV: Initialization vector for a hash function.\n",
    "        comp: Compression function to be used in the Merkle-Damgard construction.\n",
    "        l_block: Length in bytes of the blocks to be used in the Merkle-Damgard construction.\n",
    "    Returns:\n",
    "        A hash function for messages of arbitrary length, defined by using\n",
    "        the Merkle-Damgard construction.\n",
    "    \"\"\"\n",
    "    # Hash function\n",
    "    def hash_function(message):\n",
    "        padded = pad(message, l_block)\n",
    "        h = IV\n",
    "        for n_block in range(len(padded) // l_block):\n",
    "            m = padded[l_block * n_block: l_block * (n_block + 1)]\n",
    "            h = comp(m + h)\n",
    "        return h\n",
    "    return hash_function"
   ]
  },
  {
   "cell_type": "markdown",
   "metadata": {},
   "source": [
    "Se prueba la implementación utilizando el cifrado AES (128-bit) como función de encriptación segura en la construcción de Davies-Meyer, lo que genera la función de compresión utilizada posteriormente en la construcción de Merkle-Damgard:"
   ]
  },
  {
   "cell_type": "code",
   "execution_count": 149,
   "metadata": {},
   "outputs": [
    {
     "name": "stdout",
     "output_type": "stream",
     "text": [
      "CFADB5C4677D641FACBE14316747E831\n",
      "778C6C3E3C4FF47A5B529CE2C2506758\n",
      "508484D8D946F907C8F6F0FD4722FECD\n",
      "22629910D3B060A67EA8748A4D85F0C3\n",
      "A1C96608BC19FACC466B2428894FF326\n"
     ]
    }
   ],
   "source": [
    "# Test Hashing\n",
    "if __name__ == '__main__':\n",
    "    # AES block cipher (128-bits)\n",
    "    from Crypto.Cipher import AES\n",
    "    def AES_128(key, message):\n",
    "        cipher = AES.new(key, AES.MODE_ECB)\n",
    "        return bytearray(cipher.encrypt(message))\n",
    "\n",
    "    # Testing\n",
    "    compression = davies_meyer(AES_128, 16, 16)\n",
    "    hash = merkle_damgard(bytearray(b'j12g5g68BnorZOo7'), compression, 16)\n",
    "    s0 = bytearray(b'')\n",
    "    s1 = bytearray(b'Roger was known as Pirate King..')\n",
    "    s2 = bytearray(b'Roger was known')\n",
    "    s3 = bytearray(b'Roger was known as Pirate King.')\n",
    "    s4 = bytearray(b'Gol D. Roger was known as the Pirate King, the strongest and most infamous being to have sailed the Grand Line. The capture and execution of Roger by the World Government brought a change throughout the world. His last words before his death revealed the existence of the greatest treasure in the world, One Piece. It was this revelation that brought about the Grand Age of Pirates, men who dreamed of finding One Piece-which promises an unlimited amount of riches and fame-and quite possibly the pinnacle of glory and the title of the Pirate King.')\n",
    "    h0 = hash(s0)\n",
    "    h1 = hash(s1)\n",
    "    h2 = hash(s2)\n",
    "    h3 = hash(s3)\n",
    "    h4 = hash(s4)\n",
    "    print(h0.hex().upper())\n",
    "    print(h1.hex().upper())\n",
    "    print(h2.hex().upper())\n",
    "    print(h3.hex().upper())\n",
    "    print(h4.hex().upper())"
   ]
  }
 ],
 "metadata": {
  "interpreter": {
   "hash": "ed231141b16e2741583aefc9a37ed827db52e42c1901e8b733d8c7b827a20553"
  },
  "kernelspec": {
   "display_name": "Python 3.8.1 ('venv': venv)",
   "language": "python",
   "name": "python3"
  },
  "language_info": {
   "codemirror_mode": {
    "name": "ipython",
    "version": 3
   },
   "file_extension": ".py",
   "mimetype": "text/x-python",
   "name": "python",
   "nbconvert_exporter": "python",
   "pygments_lexer": "ipython3",
   "version": "3.8.1"
  },
  "orig_nbformat": 4
 },
 "nbformat": 4,
 "nbformat_minor": 2
}
