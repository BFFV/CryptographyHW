{
 "cells": [
  {
   "cell_type": "markdown",
   "metadata": {},
   "source": [
    "# Pregunta 1"
   ]
  },
  {
   "cell_type": "markdown",
   "metadata": {},
   "source": [
    "A continuación se importan algunas librerías estándar de ``python`` que serán de utilidad. Luego"
   ]
  },
  {
   "cell_type": "code",
   "execution_count": 95,
   "metadata": {},
   "outputs": [],
   "source": [
    "# Standard library\n",
    "from Crypto.Cipher import AES\n",
    "\n",
    "# Auxiliary functions\n",
    "\n",
    "# AES block cipher (128-bits)\n",
    "def AES_128(key, message):\n",
    "    encrypt = AES.new(key, AES.MODE_CBC, IV=b'7jo1O2Zgr5ogn6B8')\n",
    "    return bytearray(encrypt.encrypt(message))"
   ]
  },
  {
   "cell_type": "markdown",
   "metadata": {},
   "source": [
    "A"
   ]
  },
  {
   "cell_type": "code",
   "execution_count": 96,
   "metadata": {},
   "outputs": [],
   "source": [
    "# Hashing\n",
    "\n",
    "# Davies-Meyer construction\n",
    "def davies_meyer(encrypt, l_key, l_message):\n",
    "    \"\"\"\n",
    "    Arguments:\n",
    "        encrypt: An encryption function.\n",
    "        l_key: Length in bytes of the keys for encrypt.\n",
    "        l_message: Length in bytes of the messages for encrypt.\n",
    "    Returns:\n",
    "        A compression function from messages of length (l_key + l_message) to\n",
    "        messages of length (l_message), defined by using the Davies-Meyer construction.\n",
    "    \"\"\"\n",
    "    # Compression function\n",
    "    def compress(message):\n",
    "        enc = encrypt(message[:l_key], message[l_key:])\n",
    "        return bytearray(enc[i] ^ message[l_key:][i] for i in range(l_message))\n",
    "    return compress\n",
    "\n",
    "# Padding\n",
    "def pad(message, l_block):\n",
    "    \"\"\"\n",
    "    Arguments:\n",
    "        message: Message to be padded.\n",
    "        l_block: Length in bytes of the block.\n",
    "    Returns:\n",
    "        Extension of message that includes the length of the message\n",
    "        (in bytes) in its last block.\n",
    "    \"\"\"\n",
    "    # TODO: complete\n",
    "    pass\n",
    "\n",
    "# Merkle-Damgard construction\n",
    "def merkle_damgard(IV, comp, l_block):\n",
    "    \"\"\"\n",
    "    Arguments:\n",
    "        IV: Initialization vector for a hash function.\n",
    "        comp: Compression function to be used in the Merkle-Damgard construction.\n",
    "        l_block: Length in bytes of the blocks to be used in the Merkle-Damgard construction.\n",
    "    Returns:\n",
    "        A hash function for messages of arbitrary length, defined by using\n",
    "        the Merkle-Damgard construction.\n",
    "    \"\"\"\n",
    "    # TODO: complete\n",
    "    return comp"
   ]
  },
  {
   "cell_type": "markdown",
   "metadata": {},
   "source": [
    "A"
   ]
  },
  {
   "cell_type": "code",
   "execution_count": 97,
   "metadata": {},
   "outputs": [
    {
     "name": "stdout",
     "output_type": "stream",
     "text": [
      "4A0C085C7BAFE8A5C6B8C59F18683259\n"
     ]
    }
   ],
   "source": [
    "# Test Hashing\n",
    "if __name__ == '__main__':\n",
    "    compression = davies_meyer(AES_128, 16, 16)\n",
    "    hash = merkle_damgard(b'j12g5g68BnorZOo7', compression, 16)\n",
    "    s1 = bytearray(b'Roger was known as Pirate King..')\n",
    "    h1 = hash(s1)\n",
    "    print(h1.hex().upper())"
   ]
  }
 ],
 "metadata": {
  "interpreter": {
   "hash": "ed231141b16e2741583aefc9a37ed827db52e42c1901e8b733d8c7b827a20553"
  },
  "kernelspec": {
   "display_name": "Python 3.8.1 ('venv': venv)",
   "language": "python",
   "name": "python3"
  },
  "language_info": {
   "codemirror_mode": {
    "name": "ipython",
    "version": 3
   },
   "file_extension": ".py",
   "mimetype": "text/x-python",
   "name": "python",
   "nbconvert_exporter": "python",
   "pygments_lexer": "ipython3",
   "version": "3.8.1"
  },
  "orig_nbformat": 4
 },
 "nbformat": 4,
 "nbformat_minor": 2
}
